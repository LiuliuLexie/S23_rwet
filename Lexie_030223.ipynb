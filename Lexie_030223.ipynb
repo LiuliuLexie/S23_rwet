{
 "cells": [
  {
   "cell_type": "markdown",
   "id": "cf4a3bbf",
   "metadata": {},
   "source": [
    "# week 6: The Genre Study\n",
    "\n",
    "By. Lexie\n",
    "\n",
    "Here's the notebook for the third assignment - the Genre Study. I would create a program that produces texts that emulate a particular form or genre of language that I choose and do a short analysis of some exemplars, making a list of the characteristics that are common to them. \n",
    "\n",
    "The form of writing I choose is called **Fibonacci Poem (or Fib)**. Fibonacci poems are written based on the Fibonacci sequence. The Fibonacci sequence (1, 1, 2, 3, 5, 8, 13,21...) is named after [*Leonardo of Pisa (or Filius Bonacci)*](https://en.wikipedia.org/wiki/Fibonacci), an famous Italian mathematician. Each term in the series is produced by adding together the two previous terms, so that 1+1=2, 1+2=3, 2+3=5... The Fib occurs throughout the worlds of nature, art, music, etc. In literature, the rules for Fib poems, the number of syllables in each line equals the total number of syllables in the preceding two lines. However, in my program, I haven't figured out how to count the syllables in words, I adjust the rule to **\"the number of words in each line equals the total number of words in the preceding two lines\"** and would take the middle sentence as the axis of symmetry to create my own 11-lines (1, 1, 2, 3, 5, 8, 5, 3, 2, 1, 1) Fib poems. "
   ]
  },
  {
   "cell_type": "markdown",
   "id": "049c055a",
   "metadata": {},
   "source": [
    "I would like to generate a fib poema about the nature, about trees. Here is **the logic and basic structure of the poem**. #trees_one# refers to single word tree names, #trees_two# refers to two-word tree names, I got nature related words from [here](https://relatedwords.io/nature) and #verb# refer to romantic verbs from love stories.\n",
    "\n",
    "1 #trees_one# <br>\n",
    "1 #question_word#? <br>\n",
    "2 #trees_two# <br>\n",
    "3 #trees_one# meets #nature_related_word# <br>\n",
    "5 #trees_one# #verb# #nature_related_word#, #nature_related_word# #verb# <br>\n",
    "8 #nature_related_word#, in #emotional_phrase# and #emotional_phrase#, #trees_one# <br>\n",
    "5 #verb# #nature_related_word#, and #tree_one# #verb# <br>\n",
    "3 in #emotional_phrase# <br>\n",
    "2 #verb#, #verb# <br>\n",
    "1 #question_word#?<br>\n",
    "1 tree <br>"
   ]
  },
  {
   "cell_type": "markdown",
   "id": "ee890a0c",
   "metadata": {},
   "source": [
    "And here's some outputs I got: "
   ]
  },
  {
   "cell_type": "markdown",
   "id": "13fdfc56",
   "metadata": {},
   "source": [
    "<p style='text-align: center;'>Filbert</p>\n",
    "<p style='text-align: center;'>What?</p>\n",
    "<p style='text-align: center;'>Black walnut</p>\n",
    "<p style='text-align: center;'>Ironwood meets pole</p>\n",
    "<p style='text-align: center;'>Bark fantasize power, pond expect</p>\n",
    "<p style='text-align: center;'>forest, in restless anticipation and complex emotions, sassafras</p>\n",
    "<p style='text-align: center;'>merge cretaceous, and camellia binds</p>\n",
    "<p style='text-align: center;'>in bittersweet memory</p>\n",
    "<p style='text-align: center;'>Awes, intertwines</p>\n",
    "<p style='text-align: center;'>Where?</p>\n",
    "<p style='text-align: center;'>Tree</p>"
   ]
  },
  {
   "cell_type": "markdown",
   "id": "f42997f2",
   "metadata": {},
   "source": [
    "# Process of developing the program"
   ]
  },
  {
   "cell_type": "markdown",
   "id": "0dea7ce5",
   "metadata": {},
   "source": [
    "First I tested how to let the program get the fib sequence, the number of words in each line, itself."
   ]
  },
  {
   "cell_type": "code",
   "execution_count": 15,
   "id": "bfb053da",
   "metadata": {},
   "outputs": [
    {
     "name": "stdout",
     "output_type": "stream",
     "text": [
      "How many terms? (Please input a number >= 1) 10\n",
      "Fibonacci sequence:\n",
      "0\n",
      "1\n",
      "1\n",
      "2\n",
      "3\n",
      "5\n",
      "8\n",
      "13\n",
      "21\n",
      "34\n"
     ]
    }
   ],
   "source": [
    "# get fib sequence\n",
    "nterms = int(input(\"How many terms? (Please input a number >= 1) \"))\n",
    "\n",
    "n1, n2 = 0, 1\n",
    "count = 0\n",
    "\n",
    "print(\"Fibonacci sequence:\")\n",
    "while count < nterms:\n",
    "   print(n1)\n",
    "   nth = n1 + n2\n",
    "   n1 = n2\n",
    "   n2 = nth\n",
    "   count += 1"
   ]
  },
  {
   "cell_type": "markdown",
   "id": "57d20533",
   "metadata": {},
   "source": [
    "(When running the above test, I came across with a problem that after running the code for 2-3 times, a \"In [ * ]\" sign shows on the left and the code could not be run again until I do a \"Interupt\" in the \"Kernel\" session on the top tool bar.)\n",
    "\n",
    "From the test above, we can see that \"n1\" is the number of words we need for each line. Thus, i got the number of the words I need for each line. \n",
    "\n",
    "1\n",
    "1\n",
    "2\n",
    "3\n",
    "5\n",
    "8\n",
    "5\n",
    "3\n",
    "2\n",
    "1\n",
    "1"
   ]
  },
  {
   "cell_type": "code",
   "execution_count": 42,
   "id": "8400f619",
   "metadata": {},
   "outputs": [
    {
     "name": "stdout",
     "output_type": "stream",
     "text": [
      "Requirement already satisfied: tracery in /Users/zhuliuliu/opt/anaconda3/lib/python3.9/site-packages (0.1.1)\r\n"
     ]
    }
   ],
   "source": [
    "# install python tracery library\n",
    "\n",
    "import sys\n",
    "!{sys.executable} -m pip install tracery\n",
    "\n",
    "import tracery\n",
    "from tracery.modifiers import base_english\n"
   ]
  },
  {
   "cell_type": "code",
   "execution_count": 43,
   "id": "deda2317",
   "metadata": {},
   "outputs": [],
   "source": [
    "# create my own word dictionary\n",
    "\n",
    "question_word = [item.lower() for item in open(\"questionWords.txt\").read().split(\"\\n\")]\n",
    "trees_one = [item.lower() for item in open(\"trees_one.txt\").read().split(\"\\n\")] # single word treee names from http://bhort.bh.cornell.edu/tree/list.html\n",
    "trees_two = [item.lower() for item in open(\"trees_two.txt\").read().split(\"\\n\")] # two-word tree names from http://bhort.bh.cornell.edu/tree/list.html\n",
    "nature_related_word = [item.lower() for item in open(\"nature_related_nouns.txt\").read().split(\"\\n\")] # nature related nouns from: https://relatedwords.io/tree and https://relatedwords.io/nature\n",
    "verb = [item.lower() for item in open(\"verbs.txt\").read().split(\"\\n\")] # romantic verbs\n",
    "emotional_phrase = [item.lower() for item in open(\"emotional_phrases.txt\").read().split(\"\\n\")] # two-word emotional phrases\n"
   ]
  },
  {
   "cell_type": "code",
   "execution_count": 54,
   "id": "b663e1ea",
   "metadata": {},
   "outputs": [
    {
     "name": "stdout",
     "output_type": "stream",
     "text": [
      "Filbert\n",
      "What?\n",
      "American beech\n",
      "Fir meets banyan\n",
      "Filbert delights path, ash spellbinds\n",
      "water, in uneasy tension and blissful adoration, banyan\n",
      "daydreams lignin, and apple binds\n",
      "in reluctant acceptance\n",
      "Unites, impresss\n",
      "When?\n",
      "Tree\n"
     ]
    }
   ],
   "source": [
    "rules = {\n",
    "    \"line1\": \"#trees_one#\",\n",
    "    \"line2\": \"#question_word#?\",\n",
    "    \"line3\": \"#trees_two#\",\n",
    "    \"line4\": \"#trees_one# meets #nature_related_word#\",\n",
    "    \"line5\": \"#trees_one# #verb#s #nature_related_word#, #nature_related_word# #verb#s\",\n",
    "    \"line6\": \"#nature_related_word#, in #emotional_phrase# and #emotional_phrase#, #trees_one#\",\n",
    "    \"line7\": \"#verb#s #nature_related_word#, and #trees_one# #verb#s\",\n",
    "    \"line8\": \"in #emotional_phrase#\",\n",
    "    \"line9\": \"#verb#s, #verb#s\",\n",
    "    \"line10\": \"#question_word#?\",\n",
    "    \"line11\": \"tree\",\n",
    "    \n",
    "    \"question_word\": question_word,\n",
    "    \"trees_one\": trees_one,\n",
    "    \"trees_two\": trees_two,\n",
    "    \"nature_related_word\": nature_related_word,\n",
    "    \"verb\": verb,\n",
    "    \"emotional_phrase\": emotional_phrase\n",
    "}\n",
    "\n",
    "grammar = tracery.Grammar(rules)\n",
    "grammar.add_modifiers(base_english)\n",
    "\n",
    "print(grammar.flatten(\"#line1#\").capitalize())\n",
    "print(grammar.flatten(\"#line2#\").capitalize())\n",
    "print(grammar.flatten(\"#line3#\").capitalize())\n",
    "print(grammar.flatten(\"#line4#\").capitalize())\n",
    "print(grammar.flatten(\"#line5#\").capitalize())\n",
    "print(grammar.flatten(\"#line6#\"))\n",
    "print(grammar.flatten(\"#line7#\"))\n",
    "print(grammar.flatten(\"#line8#\"))\n",
    "print(grammar.flatten(\"#line9#\").capitalize())\n",
    "print(grammar.flatten(\"#line10#\").capitalize())\n",
    "print(grammar.flatten(\"#line11#\").capitalize())"
   ]
  },
  {
   "cell_type": "markdown",
   "id": "e1d21d7c",
   "metadata": {},
   "source": [
    "\n",
    "Problem to solve: <br>\n",
    "    - some of the verbs end with \"s\", thus they need an \"es\" after them, or some verbs would look weird like \"impresss\". A verb modifier needed here."
   ]
  }
 ],
 "metadata": {
  "kernelspec": {
   "display_name": "Python 3 (ipykernel)",
   "language": "python",
   "name": "python3"
  },
  "language_info": {
   "codemirror_mode": {
    "name": "ipython",
    "version": 3
   },
   "file_extension": ".py",
   "mimetype": "text/x-python",
   "name": "python",
   "nbconvert_exporter": "python",
   "pygments_lexer": "ipython3",
   "version": "3.9.13"
  }
 },
 "nbformat": 4,
 "nbformat_minor": 5
}
